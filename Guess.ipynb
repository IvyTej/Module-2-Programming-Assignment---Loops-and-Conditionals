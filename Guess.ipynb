{
 "cells": [
  {
   "cell_type": "code",
   "execution_count": 5,
   "id": "7e375cb1-bd0d-4f83-8d67-9b867fca5900",
   "metadata": {},
   "outputs": [
    {
     "name": "stdin",
     "output_type": "stream",
     "text": [
      "Choose a number between 1 to 10:  5\n",
      "Choose another number between 1 to 10:  3\n"
     ]
    },
    {
     "name": "stdout",
     "output_type": "stream",
     "text": [
      "Too low\n"
     ]
    }
   ],
   "source": [
    "def check_guess_vs_secret():\n",
    "    # Enter a number between 1 to 10 and save it in the variable secret\n",
    "    secret = int(input(\"Choose a number between 1 to 10: \"))\n",
    "    \n",
    "    # Guess a number between 1 to 10 and save it in the variable guess\n",
    "    guess = int(input(\"Choose another number between 1 to 10: \"))\n",
    "\n",
    "    # Check if guess is less than secret then print \"too low\"\n",
    "    if guess < secret:\n",
    "        print(\"too low\")\n",
    "    # Check if guess is greater than secret then print too high\n",
    "    elif guess > secret:\n",
    "        print(\"too high\")\n",
    "    else:\n",
    "    #Else Print \"just right\" when guess is equal to secret\n",
    "        print(\"just right\")\n",
    "\n",
    "# Calling the function\n",
    "if __name__ == \"__main__\":\n",
    "    check_guess_vs_secret()"
   ]
  }
 ],
 "metadata": {
  "kernelspec": {
   "display_name": "Python 3 (ipykernel)",
   "language": "python",
   "name": "python3"
  },
  "language_info": {
   "codemirror_mode": {
    "name": "ipython",
    "version": 3
   },
   "file_extension": ".py",
   "mimetype": "text/x-python",
   "name": "python",
   "nbconvert_exporter": "python",
   "pygments_lexer": "ipython3",
   "version": "3.12.4"
  }
 },
 "nbformat": 4,
 "nbformat_minor": 5
}
