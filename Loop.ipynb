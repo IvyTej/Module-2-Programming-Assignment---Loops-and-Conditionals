{
 "cells": [
  {
   "cell_type": "code",
   "execution_count": null,
   "id": "9c15b9d0-18c7-40b3-bb79-34d861915247",
   "metadata": {},
   "outputs": [],
   "source": [
    "# Assign values to the list\n",
    "List_of_values = [3, 2, 1, 0]\n",
    "\n",
    "# For loop to print each value\n",
    "for item in List_of_values:\n",
    "    print(item)"
   ]
  }
 ],
 "metadata": {
  "kernelspec": {
   "display_name": "Python 3 (ipykernel)",
   "language": "python",
   "name": "python3"
  },
  "language_info": {
   "codemirror_mode": {
    "name": "ipython",
    "version": 3
   },
   "file_extension": ".py",
   "mimetype": "text/x-python",
   "name": "python",
   "nbconvert_exporter": "python",
   "pygments_lexer": "ipython3",
   "version": "3.12.4"
  }
 },
 "nbformat": 4,
 "nbformat_minor": 5
}
